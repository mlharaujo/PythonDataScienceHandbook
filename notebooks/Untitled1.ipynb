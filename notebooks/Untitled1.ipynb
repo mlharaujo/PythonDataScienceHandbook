{
 "cells": [
  {
   "cell_type": "code",
   "execution_count": 1,
   "id": "9bcd90c7",
   "metadata": {},
   "outputs": [
    {
     "name": "stderr",
     "output_type": "stream",
     "text": [
      "'ls' is not recognized as an internal or external command,\n",
      "operable program or batch file.\n"
     ]
    }
   ],
   "source": [
    "!ls"
   ]
  },
  {
   "cell_type": "code",
   "execution_count": 2,
   "id": "a8dc54a6",
   "metadata": {},
   "outputs": [
    {
     "name": "stdout",
     "output_type": "stream",
     "text": [
      " Volume in drive C has no label.\n",
      " Volume Serial Number is 3812-BF2C\n",
      "\n",
      " Directory of C:\\Users\\test\\Documents\\GitHub\\PythonDataScienceHandbook\\notebooks\n",
      "\n",
      "04/04/2023  16:43    <DIR>          .\n",
      "04/04/2023  16:43    <DIR>          ..\n",
      "04/04/2023  16:43    <DIR>          .ipynb_checkpoints\n",
      "04/04/2023  12:21            14,000 00.00-Preface.ipynb\n",
      "04/04/2023  12:21             8,523 01.00-IPython-Beyond-Normal-Python.ipynb\n",
      "04/04/2023  15:20            15,461 01.01-Help-And-Documentation.ipynb\n",
      "04/04/2023  16:02            10,633 01.02-Shell-Keyboard-Shortcuts.ipynb\n",
      "04/04/2023  16:05             9,950 01.03-Magic-Commands.ipynb\n",
      "04/04/2023  16:26             9,144 01.04-Input-Output-History.ipynb\n",
      "04/04/2023  16:39            11,593 01.05-IPython-And-Shell-Commands.ipynb\n",
      "04/04/2023  12:18            21,677 01.06-Errors-and-Debugging.ipynb\n",
      "04/04/2023  12:18            19,500 01.07-Timing-and-Profiling.ipynb\n",
      "04/04/2023  12:18             5,728 01.08-More-IPython-Resources.ipynb\n",
      "04/04/2023  12:18             7,777 02.00-Introduction-to-NumPy.ipynb\n",
      "04/04/2023  12:18            24,751 02.01-Understanding-Data-Types.ipynb\n",
      "04/04/2023  12:18            35,089 02.02-The-Basics-Of-NumPy-Arrays.ipynb\n",
      "04/04/2023  12:18            33,185 02.03-Computation-on-arrays-ufuncs.ipynb\n",
      "04/04/2023  12:18            31,968 02.04-Computation-on-arrays-aggregates.ipynb\n",
      "04/04/2023  12:18           103,043 02.05-Computation-on-arrays-broadcasting.ipynb\n",
      "04/04/2023  12:18            42,455 02.06-Boolean-Arrays-and-Masks.ipynb\n",
      "04/04/2023  12:18            63,940 02.07-Fancy-Indexing.ipynb\n",
      "04/04/2023  12:18            63,023 02.08-Sorting.ipynb\n",
      "04/04/2023  12:18            17,856 02.09-Structured-Data-NumPy.ipynb\n",
      "04/04/2023  12:18             7,240 03.00-Introduction-to-Pandas.ipynb\n",
      "04/04/2023  12:18            41,683 03.01-Introducing-Pandas-Objects.ipynb\n",
      "04/04/2023  12:18            42,928 03.02-Data-Indexing-and-Selection.ipynb\n",
      "04/04/2023  12:18            28,635 03.03-Operations-in-Pandas.ipynb\n",
      "04/04/2023  12:18            38,731 03.04-Missing-Values.ipynb\n",
      "04/04/2023  12:18            79,032 03.05-Hierarchical-Indexing.ipynb\n",
      "04/04/2023  12:18            49,132 03.06-Concat-And-Append.ipynb\n",
      "04/04/2023  12:18           110,988 03.07-Merge-and-Join.ipynb\n",
      "04/04/2023  12:18            81,925 03.08-Aggregation-and-Grouping.ipynb\n",
      "04/04/2023  12:18           187,237 03.09-Pivot-Tables.ipynb\n",
      "04/04/2023  12:18            43,677 03.10-Working-With-Strings.ipynb\n",
      "04/04/2023  12:18           680,462 03.11-Working-with-Time-Series.ipynb\n",
      "04/04/2023  12:18            32,308 03.12-Performance-Eval-and-Query.ipynb\n",
      "04/04/2023  12:18             5,155 03.13-Further-Resources.ipynb\n",
      "04/04/2023  12:18           101,713 04.00-Introduction-To-Matplotlib.ipynb\n",
      "04/04/2023  12:18           296,739 04.01-Simple-Line-Plots.ipynb\n",
      "04/04/2023  12:18           198,151 04.02-Simple-Scatter-Plots.ipynb\n",
      "04/04/2023  12:18            48,029 04.03-Errorbars.ipynb\n",
      "04/04/2023  12:18           498,064 04.04-Density-and-Contour-Plots.ipynb\n",
      "04/04/2023  12:18           125,797 04.05-Histograms-and-Binnings.ipynb\n",
      "04/04/2023  12:18           220,183 04.06-Customizing-Legends.ipynb\n",
      "04/04/2023  12:18           435,962 04.07-Customizing-Colorbars.ipynb\n",
      "04/04/2023  12:18           151,311 04.08-Multiple-Subplots.ipynb\n",
      "04/04/2023  12:18           196,328 04.09-Text-and-Annotation.ipynb\n",
      "04/04/2023  12:18           318,587 04.10-Customizing-Ticks.ipynb\n",
      "04/04/2023  12:18           372,797 04.11-Settings-and-Stylesheets.ipynb\n",
      "04/04/2023  12:18           663,309 04.12-Three-Dimensional-Plotting.ipynb\n",
      "04/04/2023  12:18         2,738,491 04.13-Geographic-Data-With-Basemap.ipynb\n",
      "04/04/2023  12:18         1,073,641 04.14-Visualization-With-Seaborn.ipynb\n",
      "04/04/2023  12:18             5,891 04.15-Further-Resources.ipynb\n",
      "04/04/2023  12:18             5,208 05.00-Machine-Learning.ipynb\n",
      "04/04/2023  12:18            24,681 05.01-What-Is-Machine-Learning.ipynb\n",
      "04/04/2023  12:18           392,263 05.02-Introducing-Scikit-Learn.ipynb\n",
      "04/04/2023  12:18           215,852 05.03-Hyperparameters-and-Model-Validation.ipynb\n",
      "04/04/2023  12:18            50,127 05.04-Feature-Engineering.ipynb\n",
      "04/04/2023  12:18           264,282 05.05-Naive-Bayes.ipynb\n",
      "04/04/2023  12:18           389,019 05.06-Linear-Regression.ipynb\n",
      "04/04/2023  12:18         1,033,877 05.07-Support-Vector-Machines.ipynb\n",
      "04/04/2023  12:18           486,569 05.08-Random-Forests.ipynb\n",
      "04/04/2023  12:18           579,791 05.09-Principal-Component-Analysis.ipynb\n",
      "04/04/2023  12:18         1,559,395 05.10-Manifold-Learning.ipynb\n",
      "04/04/2023  12:18         2,108,557 05.11-K-Means.ipynb\n",
      "04/04/2023  12:18         1,136,352 05.12-Gaussian-Mixtures.ipynb\n",
      "04/04/2023  12:18           260,391 05.13-Kernel-Density-Estimation.ipynb\n",
      "04/04/2023  12:18           567,431 05.14-Image-Features.ipynb\n",
      "04/04/2023  12:18             7,031 05.15-Learning-More.ipynb\n",
      "04/04/2023  12:18         1,848,803 06.00-Figure-Code.ipynb\n",
      "04/04/2023  12:18    <DIR>          data\n",
      "04/04/2023  12:18    <DIR>          figures\n",
      "04/04/2023  12:18             2,935 helpers_05_08.py\n",
      "04/04/2023  12:18             6,838 Index.ipynb\n",
      "04/04/2023  16:00               766 Untitled.ipynb\n",
      "04/04/2023  16:43                72 Untitled1.ipynb\n",
      "              71 File(s)     20,363,662 bytes\n",
      "               5 Dir(s)  51,610,923,008 bytes free\n"
     ]
    }
   ],
   "source": [
    "!dir"
   ]
  },
  {
   "cell_type": "code",
   "execution_count": null,
   "id": "6f8f6598",
   "metadata": {},
   "outputs": [],
   "source": []
  }
 ],
 "metadata": {
  "kernelspec": {
   "display_name": "Python 3 (ipykernel)",
   "language": "python",
   "name": "python3"
  },
  "language_info": {
   "codemirror_mode": {
    "name": "ipython",
    "version": 3
   },
   "file_extension": ".py",
   "mimetype": "text/x-python",
   "name": "python",
   "nbconvert_exporter": "python",
   "pygments_lexer": "ipython3",
   "version": "3.11.2"
  }
 },
 "nbformat": 4,
 "nbformat_minor": 5
}
